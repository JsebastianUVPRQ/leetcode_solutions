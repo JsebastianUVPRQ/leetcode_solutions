{
 "cells": [
  {
   "cell_type": "markdown",
   "metadata": {},
   "source": [
    "# Grafica de funciones de dominio en el plano complejo y llegada en el plano complejo"
   ]
  },
  {
   "cell_type": "markdown",
   "metadata": {},
   "source": [
    "## Método 1: graficas Im - Re "
   ]
  },
  {
   "cell_type": "code",
   "execution_count": 1,
   "metadata": {},
   "outputs": [],
   "source": [
    "# Empezamos por importar las librerias que permitan trabajar con numeros complejos y graficas y operaciones matematicas avanzadas\n",
    "import numpy as np\n",
    "import matplotlib.pyplot as plt\n",
    "import cmath\n",
    "import math\n",
    "from sympy import *"
   ]
  },
  {
   "cell_type": "code",
   "execution_count": null,
   "metadata": {},
   "outputs": [],
   "source": [
    "# Definimos la funcion que nos permitira calcular la transformada de Fourier\n",
    "def fourier_transform(x):\n",
    "    N = len(x)\n",
    "    X = []\n",
    "    for k in range(N):\n",
    "        X.append(0)\n",
    "        for n in range(N):\n",
    "            X[k] += x[n] * cmath.exp(-2j * cmath.pi * k * n / N)\n",
    "    return X\n",
    "\n",
    "# Definimos la funcion que nos permitira calcular la transformada inversa de Fourier\n",
    "def inverse_fourier_transform(X):\n",
    "    N = len(X)\n",
    "    x = []\n",
    "    for n in range(N):\n",
    "        x.append(0)\n",
    "        for k in range(N):\n",
    "            x[n] += X[k] * cmath.exp(2j * cmath.pi * k * n / N)\n",
    "        x[n] /= N\n",
    "    return x\n",
    "\n",
    "# Definimos la funcion que nos permitira calcular la transformada de Fourier de una funcion discreta\n",
    "\n",
    "def fourier_transform_discrete(x):\n",
    "    N = len(x)\n",
    "    X = []\n",
    "    for k in range(N):\n",
    "        X.append(0)\n",
    "        for n in range(N):\n",
    "            X[k] += x[n] * cmath.exp(-2j * cmath.pi * k * n / N)\n",
    "    return X\n",
    "\n",
    "#  primera grafica: En el dominio |z| < 1 grafica las transformadas de Fourier complejas para las funciones w1(t) = 1 + it y w2(t) = i (t**2)\n",
    "# Definimos las funciones w1(t) y w2(t)\n",
    "def w1(t):\n",
    "    return 1 + 1j * t\n",
    "\n",
    "def w2(t):\n",
    "    return 1j * (t ** 2)\n",
    "\n",
    "# Definimos el intervalo de tiempo\n",
    "t = np.linspace(-1, 1, 1000)\n",
    "\n",
    "# Calculamos las transformadas de Fourier de w1(t) y w2(t)\n",
    "W1 = fourier_transform_discrete(w1(t))\n",
    "W2 = fourier_transform_discrete(w2(t))\n",
    "\n",
    "# Graficamos las transformadas de Fourier de w1(t) y w2(t)\n",
    "plt.figure()\n",
    "plt.plot(np.abs(W1), label='|W1|')\n",
    "\n"
   ]
  }
 ],
 "metadata": {
  "kernelspec": {
   "display_name": "base",
   "language": "python",
   "name": "python3"
  },
  "language_info": {
   "codemirror_mode": {
    "name": "ipython",
    "version": 3
   },
   "file_extension": ".py",
   "mimetype": "text/x-python",
   "name": "python",
   "nbconvert_exporter": "python",
   "pygments_lexer": "ipython3",
   "version": "3.10.11"
  }
 },
 "nbformat": 4,
 "nbformat_minor": 2
}
