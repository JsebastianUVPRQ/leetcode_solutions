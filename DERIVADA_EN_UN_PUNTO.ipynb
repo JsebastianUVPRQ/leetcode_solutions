{
 "cells": [
  {
   "cell_type": "code",
   "execution_count": 12,
   "metadata": {},
   "outputs": [
    {
     "data": {
      "text/plain": [
       "f'(a)    6.3125\n",
       "dtype: float64"
      ]
     },
     "execution_count": 12,
     "metadata": {},
     "output_type": "execute_result"
    }
   ],
   "source": [
    "# crea una funcion que calcule la derivada de una funcion en un punto x_0 = a\n",
    "\n",
    "import numpy as np\n",
    "import pandas as pd\n",
    "\n",
    "def derivada(f: callable, a, h=1e-5):\n",
    "    \n",
    "    return pd.Series({'f\\'(a)': (f(a+h) - f(a-h))/(2*h)})\n",
    "\n",
    "f = lambda x :5*x - (x**2)/4 + 3/(x-1)\n",
    "derivada(f, -3)\n"
   ]
  }
 ],
 "metadata": {
  "kernelspec": {
   "display_name": "VSCode",
   "language": "python",
   "name": "python3"
  },
  "language_info": {
   "codemirror_mode": {
    "name": "ipython",
    "version": 3
   },
   "file_extension": ".py",
   "mimetype": "text/x-python",
   "name": "python",
   "nbconvert_exporter": "python",
   "pygments_lexer": "ipython3",
   "version": "3.10.13"
  }
 },
 "nbformat": 4,
 "nbformat_minor": 2
}
