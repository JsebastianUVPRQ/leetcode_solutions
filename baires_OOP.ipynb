{
 "cells": [
  {
   "cell_type": "code",
   "execution_count": null,
   "metadata": {},
   "outputs": [],
   "source": [
    "# Youre a data analyst analizing sales data\n",
    "# The sales data has three columns: order_id , date, and revenue.\n",
    "# While examining the data, you notice some unusual values in the revenue column.\n",
    "# the task is to detect the unusual values in the revenue column and replace them.\n",
    "# The data is stored in a CSV file called data.csv\n",
    "\n",
    "# The outliers are defined as values that are below the 1st percentile or above the 99th percentile of the revenue column.\n",
    "# Find the 1st percentile (lower bound) and the 99th percentile (upper bound) of the revenue column.\n",
    "# Leave aside the outliers and find the minimum and maximum revenue value\n",
    "# Replace the outliers above the upper bound with the maximum revenue value and the outliers below the lower bound with the minimum revenue value.\n"
   ]
  },
  {
   "cell_type": "code",
   "execution_count": 1,
   "metadata": {},
   "outputs": [],
   "source": [
    "import os\n",
    "import pandas as pd\n",
    "import numpy as np"
   ]
  },
  {
   "cell_type": "code",
   "execution_count": null,
   "metadata": {},
   "outputs": [],
   "source": [
    "dataset = pd.read_csv('data.csv')\n",
    "revenue = dataset['revenue']\n",
    "lower_bound = revenue.quantile(0.01)\n",
    "upper_bound = revenue.quantile(0.99)\n",
    "min_revenue = revenue.min()\n",
    "max_revenue = revenue.max()\n",
    "\n",
    "#replace the outliers above the upper bound with the maximum revenue value and the outliers below the lower bound with the minimum revenue value.\n",
    "revenue = revenue.apply(lambda x: max_revenue if x > upper_bound else (min_revenue if x < lower_bound else x))\n",
    "# save the new revenue column to the dataset\n",
    "dataset['revenue'] = revenue\n",
    "# save the dataset to a new csv file\n",
    "\n"
   ]
  },
  {
   "cell_type": "code",
   "execution_count": null,
   "metadata": {},
   "outputs": [],
   "source": []
  },
  {
   "cell_type": "code",
   "execution_count": null,
   "metadata": {},
   "outputs": [],
   "source": []
  }
 ],
 "metadata": {
  "kernelspec": {
   "display_name": "VSCode",
   "language": "python",
   "name": "python3"
  },
  "language_info": {
   "codemirror_mode": {
    "name": "ipython",
    "version": 3
   },
   "file_extension": ".py",
   "mimetype": "text/x-python",
   "name": "python",
   "nbconvert_exporter": "python",
   "pygments_lexer": "ipython3",
   "version": "3.10.13"
  }
 },
 "nbformat": 4,
 "nbformat_minor": 2
}
